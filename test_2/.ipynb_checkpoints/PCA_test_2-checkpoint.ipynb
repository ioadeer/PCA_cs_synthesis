{
 "cells": [
  {
   "cell_type": "markdown",
   "metadata": {},
   "source": [
    "# Implenetar PCA al csv extraido usando essentia"
   ]
  },
  {
   "cell_type": "code",
   "execution_count": 5,
   "metadata": {},
   "outputs": [],
   "source": [
    "import numpy as np\n",
    "import scipy.io.wavfile as wf\n",
    "#import librosa as lr\n",
    "import matplotlib.pyplot as plt\n",
    "import IPython.display as display\n",
    "import sys\n",
    "sys.path.append('..')\n",
    "from utils import granular_util as gu\n",
    "import pandas as pd"
   ]
  },
  {
   "cell_type": "code",
   "execution_count": 4,
   "metadata": {},
   "outputs": [
    {
     "name": "stdout",
     "output_type": "stream",
     "text": [
      "\u001b[0;32m[   INFO   ] \u001b[0mMusicExtractorSVM: no classifier models were configured by default\n",
      "\u001b[0;32m[   INFO   ] \u001b[0mMusicExtractor: Read metadata\n",
      "\u001b[0;32m[   INFO   ] \u001b[0mMusicExtractor: Compute md5 audio hash, codec, length, and EBU 128 loudness\n",
      "\u001b[0;32m[   INFO   ] \u001b[0mMusicExtractor: Replay gain\n",
      "\u001b[0;32m[   INFO   ] \u001b[0mMusicExtractor: Compute audio features\n",
      "\u001b[0;32m[   INFO   ] \u001b[0mERBBands: input spectrum size (8193) does not correspond to the \"inputSize\" parameter (1025). Recomputing the filter bank.\n",
      "\u001b[0;32m[   INFO   ] \u001b[0mTriangularBands: input spectrum size (8193) does not correspond to the \"inputSize\" parameter (1025). Recomputing the filter bank.\n",
      "\u001b[0;32m[   INFO   ] \u001b[0mTriangularBands: input spectrum size (8193) does not correspond to the \"inputSize\" parameter (1025). Recomputing the filter bank.\n",
      "\u001b[0;32m[   INFO   ] \u001b[0mMusicExtractor: Compute aggregation\n",
      "\u001b[0;32m[   INFO   ] \u001b[0mAll done\n"
     ]
    }
   ],
   "source": [
    "!../sets/./audio_features_to_csv.py -f ../sets/01_mono.wav --framesize=16384 --hopsize=4096"
   ]
  },
  {
   "cell_type": "code",
   "execution_count": 9,
   "metadata": {},
   "outputs": [
    {
     "name": "stdout",
     "output_type": "stream",
     "text": [
      "(324, 314)\n"
     ]
    },
    {
     "data": {
      "text/html": [
       "<div>\n",
       "<style scoped>\n",
       "    .dataframe tbody tr th:only-of-type {\n",
       "        vertical-align: middle;\n",
       "    }\n",
       "\n",
       "    .dataframe tbody tr th {\n",
       "        vertical-align: top;\n",
       "    }\n",
       "\n",
       "    .dataframe thead th {\n",
       "        text-align: right;\n",
       "    }\n",
       "</style>\n",
       "<table border=\"1\" class=\"dataframe\">\n",
       "  <thead>\n",
       "    <tr style=\"text-align: right;\">\n",
       "      <th></th>\n",
       "      <th>Unnamed: 0</th>\n",
       "      <th>barkbands_crest</th>\n",
       "      <th>barkbands_flatness_db</th>\n",
       "      <th>barkbands_kurtosis</th>\n",
       "      <th>barkbands_skewness</th>\n",
       "      <th>barkbands_spread</th>\n",
       "      <th>dissonance</th>\n",
       "      <th>erbbands_crest</th>\n",
       "      <th>erbbands_flatness_db</th>\n",
       "      <th>erbbands_kurtosis</th>\n",
       "      <th>...</th>\n",
       "      <th>spectral_contrast_coeffs_2</th>\n",
       "      <th>spectral_contrast_coeffs_3</th>\n",
       "      <th>spectral_contrast_coeffs_4</th>\n",
       "      <th>spectral_contrast_coeffs_5</th>\n",
       "      <th>spectral_contrast_valleys_0</th>\n",
       "      <th>spectral_contrast_valleys_1</th>\n",
       "      <th>spectral_contrast_valleys_2</th>\n",
       "      <th>spectral_contrast_valleys_3</th>\n",
       "      <th>spectral_contrast_valleys_4</th>\n",
       "      <th>spectral_contrast_valleys_5</th>\n",
       "    </tr>\n",
       "  </thead>\n",
       "  <tbody>\n",
       "    <tr>\n",
       "      <th>0</th>\n",
       "      <td>0</td>\n",
       "      <td>6.805547</td>\n",
       "      <td>0.067678</td>\n",
       "      <td>2.993084</td>\n",
       "      <td>-1.799981</td>\n",
       "      <td>26.326765</td>\n",
       "      <td>0.499988</td>\n",
       "      <td>3.052289</td>\n",
       "      <td>0.092444</td>\n",
       "      <td>0.166721</td>\n",
       "      <td>...</td>\n",
       "      <td>-0.956554</td>\n",
       "      <td>-0.961926</td>\n",
       "      <td>-0.960566</td>\n",
       "      <td>-0.960358</td>\n",
       "      <td>-28.130983</td>\n",
       "      <td>-28.270554</td>\n",
       "      <td>-28.434223</td>\n",
       "      <td>-28.280710</td>\n",
       "      <td>-28.316153</td>\n",
       "      <td>-28.317858</td>\n",
       "    </tr>\n",
       "    <tr>\n",
       "      <th>1</th>\n",
       "      <td>1</td>\n",
       "      <td>7.031025</td>\n",
       "      <td>0.062689</td>\n",
       "      <td>3.024591</td>\n",
       "      <td>-1.803531</td>\n",
       "      <td>28.300709</td>\n",
       "      <td>0.499993</td>\n",
       "      <td>2.745347</td>\n",
       "      <td>0.089119</td>\n",
       "      <td>0.004214</td>\n",
       "      <td>...</td>\n",
       "      <td>-0.960595</td>\n",
       "      <td>-0.960968</td>\n",
       "      <td>-0.962232</td>\n",
       "      <td>-0.959958</td>\n",
       "      <td>-28.453148</td>\n",
       "      <td>-28.215635</td>\n",
       "      <td>-28.294514</td>\n",
       "      <td>-28.220040</td>\n",
       "      <td>-28.247162</td>\n",
       "      <td>-28.330753</td>\n",
       "    </tr>\n",
       "    <tr>\n",
       "      <th>2</th>\n",
       "      <td>2</td>\n",
       "      <td>6.454183</td>\n",
       "      <td>0.066224</td>\n",
       "      <td>3.004460</td>\n",
       "      <td>-1.781621</td>\n",
       "      <td>26.571196</td>\n",
       "      <td>0.499993</td>\n",
       "      <td>2.628653</td>\n",
       "      <td>0.092868</td>\n",
       "      <td>0.021734</td>\n",
       "      <td>...</td>\n",
       "      <td>-0.960188</td>\n",
       "      <td>-0.961329</td>\n",
       "      <td>-0.961190</td>\n",
       "      <td>-0.960533</td>\n",
       "      <td>-28.428112</td>\n",
       "      <td>-28.506422</td>\n",
       "      <td>-28.340414</td>\n",
       "      <td>-28.279987</td>\n",
       "      <td>-28.292469</td>\n",
       "      <td>-28.310116</td>\n",
       "    </tr>\n",
       "    <tr>\n",
       "      <th>3</th>\n",
       "      <td>3</td>\n",
       "      <td>6.264288</td>\n",
       "      <td>0.067954</td>\n",
       "      <td>3.280011</td>\n",
       "      <td>-1.845442</td>\n",
       "      <td>25.674585</td>\n",
       "      <td>0.499996</td>\n",
       "      <td>2.813896</td>\n",
       "      <td>0.094709</td>\n",
       "      <td>0.050167</td>\n",
       "      <td>...</td>\n",
       "      <td>-0.962381</td>\n",
       "      <td>-0.961392</td>\n",
       "      <td>-0.961900</td>\n",
       "      <td>-0.960717</td>\n",
       "      <td>-28.390402</td>\n",
       "      <td>-28.323261</td>\n",
       "      <td>-28.263973</td>\n",
       "      <td>-28.307053</td>\n",
       "      <td>-28.266018</td>\n",
       "      <td>-28.343088</td>\n",
       "    </tr>\n",
       "    <tr>\n",
       "      <th>4</th>\n",
       "      <td>4</td>\n",
       "      <td>6.571164</td>\n",
       "      <td>0.069611</td>\n",
       "      <td>3.253110</td>\n",
       "      <td>-1.819876</td>\n",
       "      <td>25.087400</td>\n",
       "      <td>0.499985</td>\n",
       "      <td>2.995577</td>\n",
       "      <td>0.096876</td>\n",
       "      <td>0.080534</td>\n",
       "      <td>...</td>\n",
       "      <td>-0.962037</td>\n",
       "      <td>-0.965997</td>\n",
       "      <td>-0.959222</td>\n",
       "      <td>-0.962216</td>\n",
       "      <td>-28.422325</td>\n",
       "      <td>-28.361387</td>\n",
       "      <td>-28.281118</td>\n",
       "      <td>-28.218822</td>\n",
       "      <td>-28.389150</td>\n",
       "      <td>-28.245749</td>\n",
       "    </tr>\n",
       "  </tbody>\n",
       "</table>\n",
       "<p>5 rows × 314 columns</p>\n",
       "</div>"
      ],
      "text/plain": [
       "   Unnamed: 0  barkbands_crest  barkbands_flatness_db  barkbands_kurtosis  \\\n",
       "0           0         6.805547               0.067678            2.993084   \n",
       "1           1         7.031025               0.062689            3.024591   \n",
       "2           2         6.454183               0.066224            3.004460   \n",
       "3           3         6.264288               0.067954            3.280011   \n",
       "4           4         6.571164               0.069611            3.253110   \n",
       "\n",
       "   barkbands_skewness  barkbands_spread  dissonance  erbbands_crest  \\\n",
       "0           -1.799981         26.326765    0.499988        3.052289   \n",
       "1           -1.803531         28.300709    0.499993        2.745347   \n",
       "2           -1.781621         26.571196    0.499993        2.628653   \n",
       "3           -1.845442         25.674585    0.499996        2.813896   \n",
       "4           -1.819876         25.087400    0.499985        2.995577   \n",
       "\n",
       "   erbbands_flatness_db  erbbands_kurtosis             ...               \\\n",
       "0              0.092444           0.166721             ...                \n",
       "1              0.089119           0.004214             ...                \n",
       "2              0.092868           0.021734             ...                \n",
       "3              0.094709           0.050167             ...                \n",
       "4              0.096876           0.080534             ...                \n",
       "\n",
       "   spectral_contrast_coeffs_2  spectral_contrast_coeffs_3  \\\n",
       "0                   -0.956554                   -0.961926   \n",
       "1                   -0.960595                   -0.960968   \n",
       "2                   -0.960188                   -0.961329   \n",
       "3                   -0.962381                   -0.961392   \n",
       "4                   -0.962037                   -0.965997   \n",
       "\n",
       "   spectral_contrast_coeffs_4  spectral_contrast_coeffs_5  \\\n",
       "0                   -0.960566                   -0.960358   \n",
       "1                   -0.962232                   -0.959958   \n",
       "2                   -0.961190                   -0.960533   \n",
       "3                   -0.961900                   -0.960717   \n",
       "4                   -0.959222                   -0.962216   \n",
       "\n",
       "   spectral_contrast_valleys_0  spectral_contrast_valleys_1  \\\n",
       "0                   -28.130983                   -28.270554   \n",
       "1                   -28.453148                   -28.215635   \n",
       "2                   -28.428112                   -28.506422   \n",
       "3                   -28.390402                   -28.323261   \n",
       "4                   -28.422325                   -28.361387   \n",
       "\n",
       "   spectral_contrast_valleys_2  spectral_contrast_valleys_3  \\\n",
       "0                   -28.434223                   -28.280710   \n",
       "1                   -28.294514                   -28.220040   \n",
       "2                   -28.340414                   -28.279987   \n",
       "3                   -28.263973                   -28.307053   \n",
       "4                   -28.281118                   -28.218822   \n",
       "\n",
       "   spectral_contrast_valleys_4  spectral_contrast_valleys_5  \n",
       "0                   -28.316153                   -28.317858  \n",
       "1                   -28.247162                   -28.330753  \n",
       "2                   -28.292469                   -28.310116  \n",
       "3                   -28.266018                   -28.343088  \n",
       "4                   -28.389150                   -28.245749  \n",
       "\n",
       "[5 rows x 314 columns]"
      ]
     },
     "execution_count": 9,
     "metadata": {},
     "output_type": "execute_result"
    }
   ],
   "source": [
    "df = pd.read_csv('./01_mono_frameSize_16384_hopSize_4096.csv')\n",
    "\n",
    "print(df.shape)\n",
    "df.head()\n"
   ]
  },
  {
   "cell_type": "markdown",
   "metadata": {},
   "source": [
    "#### voy a armar otro data frame a partir de ciertos features del primero para reducir el tamaño de info y  partir de este, obtener principal components\n"
   ]
  },
  {
   "cell_type": "code",
   "execution_count": 10,
   "metadata": {},
   "outputs": [],
   "source": [
    "from sklearn.preprocessing import StandardScaler\n",
    "scale = StandardScaler()\n",
    "#x = df.filter"
   ]
  },
  {
   "cell_type": "code",
   "execution_count": 11,
   "metadata": {},
   "outputs": [],
   "source": [
    "dfs = []\n",
    "dfs.append(df.filter(regex='spectral_contrast_coeffs_\\d'))\n",
    "dfs.append(df.filter(regex='mfcc_\\d'))\n",
    "dfs.append(df.filter('spectral_centroid'))\n",
    "dfs.append(df.filter('pitch_salience'))\n",
    "dfs.append(df.filter('spectral_energy'))\n",
    "\n",
    "x = pd.concat(dfs, axis=1)"
   ]
  },
  {
   "cell_type": "code",
   "execution_count": 22,
   "metadata": {},
   "outputs": [],
   "source": [
    "dfs = []\n",
    "dfs.append(df.filter(regex='spectral_contrast_coeffs_\\d'))\n",
    "dfs.append(df.filter(regex='mfcc_\\d'))\n",
    "dfs.append(df.filter('spectral_centroid'))\n",
    "dfs.append(df.filter('pitch_salience'))\n",
    "dfs.append(df.filter('spectral_energy'))\n",
    "\n",
    "selectionDf = pd.concat(dfs, axis=1)"
   ]
  },
  {
   "cell_type": "code",
   "execution_count": null,
   "metadata": {},
   "outputs": [],
   "source": []
  },
  {
   "cell_type": "code",
   "execution_count": 12,
   "metadata": {},
   "outputs": [
    {
     "data": {
      "text/plain": [
       "(324, 19)"
      ]
     },
     "execution_count": 12,
     "metadata": {},
     "output_type": "execute_result"
    }
   ],
   "source": [
    "x.shape"
   ]
  },
  {
   "cell_type": "code",
   "execution_count": 21,
   "metadata": {},
   "outputs": [
    {
     "ename": "AttributeError",
     "evalue": "'numpy.ndarray' object has no attribute 'head'",
     "output_type": "error",
     "traceback": [
      "\u001b[0;31m---------------------------------------------------------------------------\u001b[0m",
      "\u001b[0;31mAttributeError\u001b[0m                            Traceback (most recent call last)",
      "\u001b[0;32m<ipython-input-21-830ed5e65d76>\u001b[0m in \u001b[0;36m<module>\u001b[0;34m\u001b[0m\n\u001b[0;32m----> 1\u001b[0;31m \u001b[0mx\u001b[0m\u001b[0;34m.\u001b[0m\u001b[0mhead\u001b[0m\u001b[0;34m(\u001b[0m\u001b[0;34m)\u001b[0m\u001b[0;34m\u001b[0m\u001b[0;34m\u001b[0m\u001b[0m\n\u001b[0m",
      "\u001b[0;31mAttributeError\u001b[0m: 'numpy.ndarray' object has no attribute 'head'"
     ]
    }
   ],
   "source": [
    "x.head()"
   ]
  },
  {
   "cell_type": "markdown",
   "metadata": {},
   "source": [
    "#### x va a ser directamente un dataframe con datos estandarizados"
   ]
  },
  {
   "cell_type": "code",
   "execution_count": 13,
   "metadata": {},
   "outputs": [],
   "source": [
    "x = StandardScaler().fit_transform(x)"
   ]
  },
  {
   "cell_type": "code",
   "execution_count": 14,
   "metadata": {},
   "outputs": [],
   "source": [
    "from sklearn.decomposition import PCA\n",
    "\n",
    "pca = PCA(n_components =2)\n",
    "\n",
    "principalComponents = pca.fit_transform(x)\n",
    "\n",
    "principalDf = pd.DataFrame(data = principalComponents,\n",
    "                          columns = ['principal component 1',\n",
    "                                    'principal component 2'])"
   ]
  },
  {
   "cell_type": "code",
   "execution_count": 20,
   "metadata": {},
   "outputs": [
    {
     "ename": "TypeError",
     "evalue": "cannot concatenate object of type \"<class 'numpy.ndarray'>\"; only pd.Series, pd.DataFrame, and pd.Panel (deprecated) objs are valid",
     "output_type": "error",
     "traceback": [
      "\u001b[0;31m---------------------------------------------------------------------------\u001b[0m",
      "\u001b[0;31mTypeError\u001b[0m                                 Traceback (most recent call last)",
      "\u001b[0;32m<ipython-input-20-885d1f4965ae>\u001b[0m in \u001b[0;36m<module>\u001b[0;34m\u001b[0m\n\u001b[1;32m      2\u001b[0m \u001b[0mnewDataFrames\u001b[0m\u001b[0;34m.\u001b[0m\u001b[0mappend\u001b[0m\u001b[0;34m(\u001b[0m\u001b[0mx\u001b[0m\u001b[0;34m)\u001b[0m\u001b[0;34m\u001b[0m\u001b[0;34m\u001b[0m\u001b[0m\n\u001b[1;32m      3\u001b[0m \u001b[0mnewDataFrames\u001b[0m\u001b[0;34m.\u001b[0m\u001b[0mappend\u001b[0m\u001b[0;34m(\u001b[0m\u001b[0mprincipalDf\u001b[0m\u001b[0;34m)\u001b[0m\u001b[0;34m\u001b[0m\u001b[0;34m\u001b[0m\u001b[0m\n\u001b[0;32m----> 4\u001b[0;31m \u001b[0mnewDf\u001b[0m \u001b[0;34m=\u001b[0m \u001b[0mpd\u001b[0m\u001b[0;34m.\u001b[0m\u001b[0mconcat\u001b[0m\u001b[0;34m(\u001b[0m\u001b[0mnewDataFrames\u001b[0m\u001b[0;34m,\u001b[0m\u001b[0maxis\u001b[0m\u001b[0;34m=\u001b[0m \u001b[0;36m1\u001b[0m\u001b[0;34m)\u001b[0m\u001b[0;34m\u001b[0m\u001b[0;34m\u001b[0m\u001b[0m\n\u001b[0m",
      "\u001b[0;32m~/.local/lib/python3.6/site-packages/pandas/core/reshape/concat.py\u001b[0m in \u001b[0;36mconcat\u001b[0;34m(objs, axis, join, join_axes, ignore_index, keys, levels, names, verify_integrity, sort, copy)\u001b[0m\n\u001b[1;32m    223\u001b[0m                        \u001b[0mkeys\u001b[0m\u001b[0;34m=\u001b[0m\u001b[0mkeys\u001b[0m\u001b[0;34m,\u001b[0m \u001b[0mlevels\u001b[0m\u001b[0;34m=\u001b[0m\u001b[0mlevels\u001b[0m\u001b[0;34m,\u001b[0m \u001b[0mnames\u001b[0m\u001b[0;34m=\u001b[0m\u001b[0mnames\u001b[0m\u001b[0;34m,\u001b[0m\u001b[0;34m\u001b[0m\u001b[0;34m\u001b[0m\u001b[0m\n\u001b[1;32m    224\u001b[0m                        \u001b[0mverify_integrity\u001b[0m\u001b[0;34m=\u001b[0m\u001b[0mverify_integrity\u001b[0m\u001b[0;34m,\u001b[0m\u001b[0;34m\u001b[0m\u001b[0;34m\u001b[0m\u001b[0m\n\u001b[0;32m--> 225\u001b[0;31m                        copy=copy, sort=sort)\n\u001b[0m\u001b[1;32m    226\u001b[0m     \u001b[0;32mreturn\u001b[0m \u001b[0mop\u001b[0m\u001b[0;34m.\u001b[0m\u001b[0mget_result\u001b[0m\u001b[0;34m(\u001b[0m\u001b[0;34m)\u001b[0m\u001b[0;34m\u001b[0m\u001b[0;34m\u001b[0m\u001b[0m\n\u001b[1;32m    227\u001b[0m \u001b[0;34m\u001b[0m\u001b[0m\n",
      "\u001b[0;32m~/.local/lib/python3.6/site-packages/pandas/core/reshape/concat.py\u001b[0m in \u001b[0;36m__init__\u001b[0;34m(self, objs, axis, join, join_axes, keys, levels, names, ignore_index, verify_integrity, copy, sort)\u001b[0m\n\u001b[1;32m    284\u001b[0m                        \u001b[0;34m' only pd.Series, pd.DataFrame, and pd.Panel'\u001b[0m\u001b[0;34m\u001b[0m\u001b[0;34m\u001b[0m\u001b[0m\n\u001b[1;32m    285\u001b[0m                        ' (deprecated) objs are valid'.format(type(obj)))\n\u001b[0;32m--> 286\u001b[0;31m                 \u001b[0;32mraise\u001b[0m \u001b[0mTypeError\u001b[0m\u001b[0;34m(\u001b[0m\u001b[0mmsg\u001b[0m\u001b[0;34m)\u001b[0m\u001b[0;34m\u001b[0m\u001b[0;34m\u001b[0m\u001b[0m\n\u001b[0m\u001b[1;32m    287\u001b[0m \u001b[0;34m\u001b[0m\u001b[0m\n\u001b[1;32m    288\u001b[0m             \u001b[0;31m# consolidate\u001b[0m\u001b[0;34m\u001b[0m\u001b[0;34m\u001b[0m\u001b[0;34m\u001b[0m\u001b[0m\n",
      "\u001b[0;31mTypeError\u001b[0m: cannot concatenate object of type \"<class 'numpy.ndarray'>\"; only pd.Series, pd.DataFrame, and pd.Panel (deprecated) objs are valid"
     ]
    }
   ],
   "source": [
    "newDataFrames = []\n",
    "newDataFrames.append(x)\n",
    "newDataFrames.append(principalDf)\n",
    "newDf = pd.concat(newDataFrames,axis= 1)\n"
   ]
  },
  {
   "cell_type": "code",
   "execution_count": 28,
   "metadata": {},
   "outputs": [
    {
     "data": {
      "text/plain": [
       "27"
      ]
     },
     "execution_count": 28,
     "metadata": {},
     "output_type": "execute_result"
    }
   ],
   "source": [
    "principalDf['principal component 1'].shape[0]"
   ]
  },
  {
   "cell_type": "code",
   "execution_count": null,
   "metadata": {},
   "outputs": [],
   "source": [
    "principalDf"
   ]
  },
  {
   "cell_type": "code",
   "execution_count": 37,
   "metadata": {},
   "outputs": [
    {
     "data": {
      "text/html": [
       "        <script type=\"text/javascript\">\n",
       "        window.PlotlyConfig = {MathJaxConfig: 'local'};\n",
       "        if (window.MathJax) {MathJax.Hub.Config({SVG: {font: \"STIX-Web\"}});}\n",
       "        if (typeof require !== 'undefined') {\n",
       "        require.undef(\"plotly\");\n",
       "        requirejs.config({\n",
       "            paths: {\n",
       "                'plotly': ['https://cdn.plot.ly/plotly-latest.min']\n",
       "            }\n",
       "        });\n",
       "        require(['plotly'], function(Plotly) {\n",
       "            window._Plotly = Plotly;\n",
       "        });\n",
       "        }\n",
       "        </script>\n",
       "        "
      ]
     },
     "metadata": {},
     "output_type": "display_data"
    },
    {
     "data": {
      "application/vnd.plotly.v1+json": {
       "config": {
        "linkText": "Export to plot.ly",
        "plotlyServerURL": "https://plot.ly",
        "responsive": true,
        "showLink": false
       },
       "data": [
        {
         "mode": "markers",
         "name": "0      205.64505\n1      127.14704\n2      110.00863\n3       56.55140\n4      249.10650\n5     2976.14840\n6     2941.91110\n7     2909.03300\n8     2864.47490\n9     2829.80880\n10    2795.80540\n11    2752.73300\n12    2711.61940\n13    2668.26460\n14    2625.10840\n15    2579.67530\n16    2532.27220\n17    2475.92330\n18    2426.87080\n19    2379.33890\n20    2326.31760\n21    2277.56570\n22    2227.00900\n23    2180.29440\n24    2127.79980\n25     109.79601\n26    2743.34030\nName: spectral_centroid, dtype: float64",
         "text": [
          205.64505,
          127.14703999999999,
          110.00863000000001,
          56.5514,
          249.1065,
          2976.1484,
          2941.9111,
          2909.033,
          2864.4749,
          2829.8088,
          2795.8054,
          2752.7329999999997,
          2711.6194,
          2668.2646,
          2625.1084,
          2579.6753,
          2532.2722,
          2475.9233,
          2426.8708,
          2379.3389,
          2326.3176,
          2277.5657,
          2227.009,
          2180.2944,
          2127.7998,
          109.79601000000001,
          2743.3403
         ],
         "type": "scatter",
         "uid": "4dfbb954-ca9a-4b97-a280-7353c92dfcd9",
         "x": [
          10.803320571738091,
          4.1748274306924085,
          6.727116024445922,
          5.230983000064753,
          -0.059977475259932314,
          -2.0243017159174417,
          -1.8998206699952287,
          -1.8252793668214684,
          -2.061254107936232,
          -1.8614670584404227,
          -2.0807475195567116,
          -2.108247212608469,
          -1.931544988440281,
          -1.881204945441093,
          -1.9105856670866646,
          -1.6558117471157883,
          -1.8548386402969619,
          -1.9082965834893453,
          -2.047888338091781,
          -1.882353969129922,
          -1.8158042391456184,
          -1.6411842859606858,
          -1.867357238760046,
          -1.9180745932846583,
          -1.5076244091044517,
          5.04743787300941,
          5.759979871932622
         ],
         "y": [
          6.605044486569178,
          -0.270026615771568,
          -2.4508817202769855,
          -1.2054094563822806,
          -4.575446733661184,
          -0.328355307889608,
          0.05787838785030896,
          0.1970063105768232,
          -0.07696440251441722,
          -0.3890707679967743,
          -0.26368974389290145,
          0.1377585706043007,
          0.23318210565567496,
          0.054428163559113715,
          0.6237175597014865,
          0.7827283243937896,
          0.5163265852436008,
          0.7780966913674792,
          0.4975598203267378,
          0.7169724745797096,
          0.9862839934581344,
          0.6882890752187858,
          1.03560600156457,
          0.9548830254313804,
          0.9343992849772212,
          -3.990437786673142,
          -2.249878326019431
         ]
        }
       ],
       "layout": {
        "xaxis": {
         "title": {
          "text": "PCA 1"
         }
        },
        "yaxis": {
         "title": {
          "text": "PCA 2"
         }
        }
       }
      },
      "text/html": [
       "<div>\n",
       "        \n",
       "        \n",
       "            <div id=\"51132ffc-b667-4b76-b98f-28983ca1ecdc\" class=\"plotly-graph-div\" style=\"height:525px; width:100%;\"></div>\n",
       "            <script type=\"text/javascript\">\n",
       "                require([\"plotly\"], function(Plotly) {\n",
       "                    window.PLOTLYENV=window.PLOTLYENV || {};\n",
       "                    window.PLOTLYENV.BASE_URL='https://plot.ly';\n",
       "                    \n",
       "                if (document.getElementById(\"51132ffc-b667-4b76-b98f-28983ca1ecdc\")) {\n",
       "                    Plotly.newPlot(\n",
       "                        '51132ffc-b667-4b76-b98f-28983ca1ecdc',\n",
       "                        [{\"mode\": \"markers\", \"name\": \"0      205.64505\\n1      127.14704\\n2      110.00863\\n3       56.55140\\n4      249.10650\\n5     2976.14840\\n6     2941.91110\\n7     2909.03300\\n8     2864.47490\\n9     2829.80880\\n10    2795.80540\\n11    2752.73300\\n12    2711.61940\\n13    2668.26460\\n14    2625.10840\\n15    2579.67530\\n16    2532.27220\\n17    2475.92330\\n18    2426.87080\\n19    2379.33890\\n20    2326.31760\\n21    2277.56570\\n22    2227.00900\\n23    2180.29440\\n24    2127.79980\\n25     109.79601\\n26    2743.34030\\nName: spectral_centroid, dtype: float64\", \"text\": [205.64505, 127.14703999999999, 110.00863000000001, 56.5514, 249.1065, 2976.1484, 2941.9111, 2909.033, 2864.4749, 2829.8088, 2795.8054, 2752.7329999999997, 2711.6194, 2668.2646, 2625.1084, 2579.6753, 2532.2722, 2475.9233, 2426.8708, 2379.3389, 2326.3176, 2277.5657, 2227.009, 2180.2944, 2127.7998, 109.79601000000001, 2743.3403], \"type\": \"scatter\", \"uid\": \"dccf2310-f8d3-4d3a-865e-4a15bed56407\", \"x\": [10.803320571738091, 4.1748274306924085, 6.727116024445922, 5.230983000064753, -0.059977475259932314, -2.0243017159174417, -1.8998206699952287, -1.8252793668214684, -2.061254107936232, -1.8614670584404227, -2.0807475195567116, -2.108247212608469, -1.931544988440281, -1.881204945441093, -1.9105856670866646, -1.6558117471157883, -1.8548386402969619, -1.9082965834893453, -2.047888338091781, -1.882353969129922, -1.8158042391456184, -1.6411842859606858, -1.867357238760046, -1.9180745932846583, -1.5076244091044517, 5.04743787300941, 5.759979871932622], \"y\": [6.605044486569178, -0.270026615771568, -2.4508817202769855, -1.2054094563822806, -4.575446733661184, -0.328355307889608, 0.05787838785030896, 0.1970063105768232, -0.07696440251441722, -0.3890707679967743, -0.26368974389290145, 0.1377585706043007, 0.23318210565567496, 0.054428163559113715, 0.6237175597014865, 0.7827283243937896, 0.5163265852436008, 0.7780966913674792, 0.4975598203267378, 0.7169724745797096, 0.9862839934581344, 0.6882890752187858, 1.03560600156457, 0.9548830254313804, 0.9343992849772212, -3.990437786673142, -2.249878326019431]}],\n",
       "                        {\"xaxis\": {\"title\": {\"text\": \"PCA 1\"}}, \"yaxis\": {\"title\": {\"text\": \"PCA 2\"}}},\n",
       "                        {\"showLink\": false, \"linkText\": \"Export to plot.ly\", \"plotlyServerURL\": \"https://plot.ly\", \"responsive\": true}\n",
       "                    ).then(function(){\n",
       "                            \n",
       "var gd = document.getElementById('51132ffc-b667-4b76-b98f-28983ca1ecdc');\n",
       "var x = new MutationObserver(function (mutations, observer) {{\n",
       "        var display = window.getComputedStyle(gd).display;\n",
       "        if (!display || display === 'none') {{\n",
       "            console.log([gd, 'removed!']);\n",
       "            Plotly.purge(gd);\n",
       "            observer.disconnect();\n",
       "        }}\n",
       "}});\n",
       "\n",
       "// Listen for the removal of the full notebook cells\n",
       "var notebookContainer = gd.closest('#notebook-container');\n",
       "if (notebookContainer) {{\n",
       "    x.observe(notebookContainer, {childList: true});\n",
       "}}\n",
       "\n",
       "// Listen for the clearing of the current output cell\n",
       "var outputEl = gd.closest('.output');\n",
       "if (outputEl) {{\n",
       "    x.observe(outputEl, {childList: true});\n",
       "}}\n",
       "\n",
       "                        })\n",
       "                };\n",
       "                });\n",
       "            </script>\n",
       "        </div>"
      ]
     },
     "metadata": {},
     "output_type": "display_data"
    }
   ],
   "source": [
    "import plotly\n",
    "import plotly.graph_objs as go\n",
    "from plotly.offline import download_plotlyjs, init_notebook_mode, plot, iplot\n",
    "\n",
    "init_notebook_mode(connected=True)\n",
    "\n",
    "fig = {\n",
    "    'data': [\n",
    "        {\n",
    "            'x': principalDf['principal component 1'],\n",
    "            'y': principalDf['principal component 2'],\n",
    "            'text': df['spectral_centroid'],\n",
    "            'name': str(df['spectral_centroid']),  'mode': 'markers',\n",
    "        } #for i in range(principalDf['principal component 1'].shape[0])\n",
    "    ],\n",
    "    'layout': {\n",
    "        'xaxis': {'title': 'PCA 1'},\n",
    "        'yaxis': {'title': \"PCA 2\"}\n",
    "    }\n",
    "}\n",
    "\n",
    "iplot(fig)"
   ]
  },
  {
   "cell_type": "code",
   "execution_count": 43,
   "metadata": {},
   "outputs": [],
   "source": [
    "import matplotlib.pyplot as plt"
   ]
  },
  {
   "cell_type": "code",
   "execution_count": 59,
   "metadata": {},
   "outputs": [
    {
     "data": {
      "text/plain": [
       "<matplotlib.colorbar.Colorbar at 0x7f7a1dac1a20>"
      ]
     },
     "execution_count": 59,
     "metadata": {},
     "output_type": "execute_result"
    },
    {
     "data": {
      "image/png": "[encoded data removed]",
      "text/plain": [
       "<Figure size 864x864 with 2 Axes>"
      ]
     },
     "metadata": {
      "needs_background": "light"
     },
     "output_type": "display_data"
    }
   ],
   "source": [
    "plt.figure(figsize=(12,12))\n",
    "plt.scatter(principalDf['principal component 1'], principalDf['principal component 2'], c = df[\"spectral_centroid\"] )\n",
    "plt.colorbar()"
   ]
  },
  {
   "cell_type": "code",
   "execution_count": 60,
   "metadata": {},
   "outputs": [
    {
     "data": {
      "text/plain": [
       "<matplotlib.colorbar.Colorbar at 0x7f7a1dec4048>"
      ]
     },
     "execution_count": 60,
     "metadata": {},
     "output_type": "execute_result"
    },
    {
     "data": {
      "image/png": "[encoded data removed]",
      "text/plain": [
       "<Figure size 864x864 with 2 Axes>"
      ]
     },
     "metadata": {
      "needs_background": "light"
     },
     "output_type": "display_data"
    }
   ],
   "source": [
    "plt.figure(figsize=(12,12))\n",
    "plt.scatter(principalDf['principal component 1'], principalDf['principal component 2'], c = df[\"mfcc_5\"] )\n",
    "plt.colorbar()"
   ]
  },
  {
   "cell_type": "code",
   "execution_count": 61,
   "metadata": {},
   "outputs": [
    {
     "data": {
      "text/plain": [
       "<matplotlib.colorbar.Colorbar at 0x7f7a1dd2b4a8>"
      ]
     },
     "execution_count": 61,
     "metadata": {},
     "output_type": "execute_result"
    },
    {
     "data": {
      "image/png": "[encoded data removed]",
      "text/plain": [
       "<Figure size 864x864 with 2 Axes>"
      ]
     },
     "metadata": {
      "needs_background": "light"
     },
     "output_type": "display_data"
    }
   ],
   "source": [
    "plt.figure(figsize=(12,12))\n",
    "plt.scatter(principalDf['principal component 1'], principalDf['principal component 2'], c = df[\"spectral_energy\"] )\n",
    "plt.colorbar()"
   ]
  },
  {
   "cell_type": "code",
   "execution_count": 48,
   "metadata": {},
   "outputs": [
    {
     "data": {
      "text/plain": [
       "array([10.80332057,  4.17482743,  6.72711602,  5.230983  , -0.05997748,\n",
       "       -2.02430172, -1.89982067, -1.82527937, -2.06125411, -1.86146706,\n",
       "       -2.08074752, -2.10824721, -1.93154499, -1.88120495, -1.91058567,\n",
       "       -1.65581175, -1.85483864, -1.90829658, -2.04788834, -1.88235397,\n",
       "       -1.81580424, -1.64118429, -1.86735724, -1.91807459, -1.50762441,\n",
       "        5.04743787,  5.75997987])"
      ]
     },
     "execution_count": 48,
     "metadata": {},
     "output_type": "execute_result"
    }
   ],
   "source": [
    "principalDf['principal component 1'].values"
   ]
  },
  {
   "cell_type": "code",
   "execution_count": null,
   "metadata": {},
   "outputs": [],
   "source": []
  }
 ],
 "metadata": {
  "kernelspec": {
   "display_name": "Python 3",
   "language": "python",
   "name": "python3"
  },
  "language_info": {
   "codemirror_mode": {
    "name": "ipython",
    "version": 3
   },
   "file_extension": ".py",
   "mimetype": "text/x-python",
   "name": "python",
   "nbconvert_exporter": "python",
   "pygments_lexer": "ipython3",
   "version": "3.6.7"
  }
 },
 "nbformat": 4,
 "nbformat_minor": 2
}
